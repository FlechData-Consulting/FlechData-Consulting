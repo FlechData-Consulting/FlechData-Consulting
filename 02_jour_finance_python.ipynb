{
 "cells": [
  {
   "cell_type": "markdown",
   "id": "350475fd",
   "metadata": {},
   "source": [
    "# Chapitre 2 : Principes de base de Python : variables, types de données et opérations\n",
    "Apprenez les éléments fondamentaux de la programmation Python en mettant l’accent sur les calculs financiers."
   ]
  },
  {
   "cell_type": "markdown",
   "id": "826d0754",
   "metadata": {},
   "source": [
    "## Objectifs d’apprentissage :\n",
    "- Comprendre les variables et les types de données en Python\n",
    "- Effectuer des opérations de base avec des variables\n",
    "- Apprenez à prendre des entrées et à produire des sorties dans des programmes Python"
   ]
  },
  {
   "cell_type": "markdown",
   "id": "9d690486",
   "metadata": {},
   "source": [
    "## 1. Variables en Python\n",
    "Que sont les variables ? Comment déclarer et attribuer des valeurs à des variables en Python."
   ]
  },
  {
   "cell_type": "code",
   "execution_count": 3,
   "id": "fb67587e",
   "metadata": {},
   "outputs": [
    {
     "name": "stdout",
     "output_type": "stream",
     "text": [
      "10\n",
      "3.14\n",
      "Alice\n",
      "20\n",
      "23.14\n"
     ]
    }
   ],
   "source": [
    "# Que sont les variables ? Comment déclarer et attribuer des valeurs à des variables en Python.\n",
    "# les variables sont des conteneurs pour stocker des données. En Python, vous n'avez pas besoin de déclarer explicitement une variable avant de l'utiliser. Vous pouvez simplement attribuer une valeur à une variable en utilisant le signe égal (=).\n",
    "# Par exemple, pour créer une variable appelée \"x\" et lui attribuer la valeur 10, vous pouvez écrire :\n",
    "x = 10\n",
    "print(x)\n",
    "# Vous pouvez également attribuer des valeurs de différents types de données à des variables, tels que des nombres entiers, des nombres à virgule flottante, des chaînes de caractères, etc.\n",
    "# Par exemple :\n",
    "y = 3.14  # nombre à virgule flottante\n",
    "nom = \"Alice\"  # chaîne de caractères\n",
    "print(y)\n",
    "print(nom)\n",
    "# Vous pouvez également réaffecter une nouvelle valeur à une variable existante. Par exemple :\n",
    "x = 20\n",
    "print(x)\n",
    "# Dans cet exemple, la variable \"x\" a été réaffectée à la valeur\n",
    "# 20, remplaçant ainsi la valeur précédente de 10.\n",
    "# Vous pouvez également utiliser des variables dans des expressions et des calculs. Par exemple :\n",
    "somme = x + y\n",
    "print(somme)"
   ]
  },
  {
   "cell_type": "markdown",
   "id": "22eeb403",
   "metadata": {},
   "source": [
    "## 2. Types de données en Python\n",
    "Comprendre les différents types de données en Python : entiers, flottants, chaînes, booléens."
   ]
  },
  {
   "cell_type": "code",
   "execution_count": 4,
   "id": "7ae421f8",
   "metadata": {},
   "outputs": [
    {
     "name": "stdout",
     "output_type": "stream",
     "text": [
      "5\n",
      "-10\n",
      "3.14\n",
      "-2.5\n",
      "Alice\n",
      "Bob\n",
      "True\n",
      "False\n",
      "<class 'int'>\n",
      "<class 'float'>\n",
      "<class 'str'>\n",
      "<class 'bool'>\n",
      "10.0\n",
      "3\n",
      "42\n"
     ]
    }
   ],
   "source": [
    "# Comprendre les différents types de données en Python : entiers, flottants, chaînes, booléens.\n",
    "# En Python, il existe plusieurs types de données intégrés que vous pouvez utiliser pour stocker des informations. Voici les types de données les plus couramment utilisés :\n",
    "# 1. Entiers (int) : Les entiers sont des nombres entiers, positifs ou négatifs, sans partie décimale. Par exemple :\n",
    "a = 5\n",
    "b = -10\n",
    "print(a)\n",
    "print(b)\n",
    "# 2. Flottants (float) : Les flottants sont des nombres à virgule flottante, c'est-à-dire des nombres avec une partie décimale. Par exemple :\n",
    "c = 3.14\n",
    "d = -2.5\n",
    "print(c)\n",
    "print(d)\n",
    "# 3. Chaînes de caractères (str) : Les chaînes de caractères sont des séquences de caractères entourées de guillemets simples (' ') ou doubles (\" \"). Par exemple :\n",
    "nom = \"Alice\"\n",
    "prenom = 'Bob'\n",
    "print(nom)\n",
    "print(prenom)\n",
    "# 4. Booléens (bool) : Les booléens représentent des valeurs de vérité, soit True (vrai) ou False (faux). Par exemple :\n",
    "est_vrai = True\n",
    "est_faux = False\n",
    "print(est_vrai)\n",
    "print(est_faux)\n",
    "# Vous pouvez vérifier le type de données d'une variable en utilisant la fonction intégrée type(). Par exemple :\n",
    "print(type(a))  # Affiche <class 'int'>\n",
    "print(type(c))  # Affiche <class 'float'>\n",
    "print(type(nom))  # Affiche <class 'str'>\n",
    "print(type(est_vrai))  # Affiche <class 'bool'>\n",
    "# Vous pouvez également convertir entre différents types de données en utilisant des fonctions de conversion intégrées telles que int(), float(), str(), etc. Par exemple :\n",
    "x = 10\n",
    "y = 3.14\n",
    "z = \"42\"\n",
    "x_float = float(x)  # Convertit x en flottant\n",
    "y_int = int(y)  # Convertit y en entier\n",
    "z_int = int(z)  # Convertit z en entier\n",
    "print(x_float)\n",
    "print(y_int)\n",
    "print(z_int)\n"
   ]
  },
  {
   "cell_type": "markdown",
   "id": "935b3c66",
   "metadata": {},
   "source": [
    "## 3. Opérations de base\n",
    "Exécution d’opérations arithmétiques et logiques avec des variables en Python."
   ]
  },
  {
   "cell_type": "code",
   "execution_count": 5,
   "id": "4d0b6422",
   "metadata": {},
   "outputs": [
    {
     "name": "stdout",
     "output_type": "stream",
     "text": [
      "Addition : 13\n",
      "Soustraction : 7\n",
      "Multiplication : 30\n",
      "Division : 3.3333333333333335\n",
      "Division entière : 3\n",
      "Modulo : 1\n",
      "Exponentiation : 1000\n",
      "ET logique : False\n",
      "OU logique : True\n",
      "NON logique : False\n",
      "Résultat combiné : 30.333333333333332\n",
      "Hello, World !\n"
     ]
    }
   ],
   "source": [
    "# Exécution d’opérations arithmétiques et logiques avec des variables en Python.\n",
    "# En Python, vous pouvez effectuer diverses opérations arithmétiques et logiques en utilisant des opérateurs intégrés. Voici quelques exemples courants :\n",
    "# Opérations arithmétiques :\n",
    "a = 10\n",
    "b = 3\n",
    "# Addition\n",
    "somme = a + b\n",
    "print(\"Addition :\", somme)\n",
    "# Soustraction\n",
    "difference = a - b\n",
    "print(\"Soustraction :\", difference)\n",
    "# Multiplication\n",
    "produit = a * b\n",
    "print(\"Multiplication :\", produit)\n",
    "# Division\n",
    "quotient = a / b\n",
    "print(\"Division :\", quotient)\n",
    "# Division entière\n",
    "division_entiere = a // b\n",
    "print(\"Division entière :\", division_entiere)\n",
    "# Modulo (reste de la division)\n",
    "reste = a % b\n",
    "print(\"Modulo :\", reste)\n",
    "# Exponentiation\n",
    "puissance = a ** b\n",
    "print(\"Exponentiation :\", puissance)\n",
    "# Opérations logiques\n",
    "x = True\n",
    "y = False\n",
    "# ET logique\n",
    "et_logique = x and y\n",
    "print(\"ET logique :\", et_logique)\n",
    "# OU logique\n",
    "ou_logique = x or y\n",
    "print(\"OU logique :\", ou_logique)\n",
    "# NON logique\n",
    "non_logique = not x\n",
    "print(\"NON logique :\", non_logique)\n",
    "# Vous pouvez également combiner plusieurs opérations dans une seule expression en utilisant des parenthèses pour\n",
    "# contrôler l'ordre d'évaluation. Par exemple :\n",
    "resultat = (a + b) * (a - b) / b\n",
    "print(\"Résultat combiné :\", resultat)\n",
    "# N'oubliez pas que Python suit les règles de priorité des opérateurs, donc les opérations entre parenthèses sont évaluées en premier, suivies des opérations de multiplication et de division, puis des opérations d'addition et de soustraction.\n",
    "#!/usr/bin/env python3\n",
    "# afficher <<Hello, World !>>\n",
    "print('Hello, World !')\n"
   ]
  },
  {
   "cell_type": "markdown",
   "id": "10cc75b2",
   "metadata": {},
   "source": [
    "## 4. Entrée et sortie en Python\n",
    "Comment prendre les entrées de l’utilisateur et afficher les sorties dans les programmes Python."
   ]
  },
  {
   "cell_type": "code",
   "execution_count": 6,
   "id": "68554e49",
   "metadata": {},
   "outputs": [
    {
     "name": "stdout",
     "output_type": "stream",
     "text": [
      "Bonjour, Gerome !\n",
      "Vous avez 46 ans.\n"
     ]
    }
   ],
   "source": [
    "# Comment prendre les entrées de l’utilisateur et afficher les sorties dans les programmes Python.\n",
    "# En Python, vous pouvez utiliser la fonction intégrée input() pour prendre des entrées de l'utilisateur. La fonction input() affiche une invite à l'utilisateur et attend qu'il saisisse une valeur, puis retourne cette valeur sous forme de chaîne de caractères. Voici un exemple simple :\n",
    "nom = input(\"Entrez votre nom : \")\n",
    "print(\"Bonjour, \" + nom + \" !\")\n",
    "# Si vous souhaitez prendre des entrées de types spécifiques, comme des entiers ou des flottants, vous pouvez convertir la chaîne de caractères retournée par input() en utilisant les fonctions de conversion appropriées, telles que int() ou float(). Par exemple :\n",
    "age = int(input(\"Entrez votre âge : \"))\n",
    "print(\"Vous avez \" + str(age) + \" ans.\")\n",
    "# Dans cet exemple, nous utilisons int() pour convertir l'entrée de l'utilisateur en un entier, puis nous utilisons str() pour convertir l'entier en une chaîne de caractères afin de l'afficher.\n"
   ]
  },
  {
   "cell_type": "markdown",
   "id": "52f80f7d",
   "metadata": {},
   "source": [
    "## Exercices:\n",
    "  1. Créez des variables de différents types de données (int, float, string) pour stocker les données financières :\n",
    "\n",
    "        - Cours de l’action (flottant)\n",
    "        - Nombre d’actions (int)\n",
    "        - Symbole boursier de l’entreprise (chaîne)\n",
    "\n",
    "  2. Écrire un programme qui calcule la valeur totale d’une position boursière (prix × nombre d’actions)\n",
    "\n",
    "  3. Créez une calculatrice d’intérêts simple qui prend le capital, le taux et le temps comme entrées\n",
    "\n",
    "  4. Écrire un programme qui convertit les devises (par exemple, USD en EUR) en utilisant un taux de change fixe\n",
    "\n",
    "  5. Créer un programme qui calcule la valeur future d’un investissement après n ans\n",
    "\n",
    "  6. Rédiger un programme qui calcule les paiements mensuels du prêt en fonction du capital, du taux d’intérêt et des années"
   ]
  },
  {
   "cell_type": "markdown",
   "id": "e59b813e",
   "metadata": {},
   "source": [
    "## Solution"
   ]
  },
  {
   "cell_type": "code",
   "execution_count": null,
   "id": "3a091d51",
   "metadata": {},
   "outputs": [],
   "source": [
    "# 1. Creez des variables pour stocker le prix d'une action et le nombre d'actions achetées.\n",
    "prix_action = float(input(\"Entrez le prix d'une action : \"))#1100\n",
    "nombre_actions = int(input(\"Entrez le nombre d'actions achetées : \"))#13"
   ]
  },
  {
   "cell_type": "code",
   "execution_count": 8,
   "id": "9f2249c6",
   "metadata": {},
   "outputs": [
    {
     "name": "stdout",
     "output_type": "stream",
     "text": [
      "La valeur totale de l'investissement est de : 14300.0 euros.\n"
     ]
    }
   ],
   "source": [
    "# 2. Calculez la valeur totale de l'investissement et affichez-la.\n",
    "valeur_totale = prix_action * nombre_actions\n",
    "print(\"La valeur totale de l'investissement est de : \" + str(valeur_totale) + \" euros.\")"
   ]
  },
  {
   "cell_type": "code",
   "execution_count": null,
   "id": "4adab87e",
   "metadata": {},
   "outputs": [
    {
     "name": "stdout",
     "output_type": "stream",
     "text": [
      "Les intérêts simples sont de : 1800.0 euros.\n"
     ]
    }
   ],
   "source": [
    "# 3. créez une calculatrice d’intérêts simple qui prend le capital, le taux et le temps comme entrées, puis calcule et affiche les intérêts simples.\n",
    "capital = float(input(\"Entrez le capital investi : \"))#12000\n",
    "taux = float(input(\"Entrez le taux d'intérêt (en pourcentage) : \"))#5\n",
    "temps = float(input(\"Entrez la durée de l'investissement (en années) : \"))#3\n",
    "interets_simples = (capital * taux * temps) / 100 # formule des intérêts simples\n",
    "print(\"Les intérêts simples sont de : \" + str(interets_simples) + \" euros.\")"
   ]
  },
  {
   "cell_type": "code",
   "execution_count": 11,
   "id": "bcbc5b17",
   "metadata": {},
   "outputs": [
    {
     "name": "stdout",
     "output_type": "stream",
     "text": [
      "Le montant en EUR est de : 850.0 euros.\n"
     ]
    }
   ],
   "source": [
    "# 4. Écrire un programme qui convertit les devises (par exemple, USD en EUR) en utilisant un taux de change fixe\n",
    "taux_change = float(input(\"Entrez le taux de change USD en EUR : \"))#0.85\n",
    "montant_usd = float(input(\"Entrez le montant en USD : \"))#1000\n",
    "montant_eur = montant_usd * taux_change\n",
    "print(\"Le montant en EUR est de : \" + str(montant_eur) + \" euros.\")"
   ]
  },
  {
   "cell_type": "code",
   "execution_count": 13,
   "id": "aa50eaba",
   "metadata": {},
   "outputs": [
    {
     "name": "stdout",
     "output_type": "stream",
     "text": [
      "La valeur future de l'investissement après 10 ans est de : 29507.270359343496 euros.\n"
     ]
    }
   ],
   "source": [
    "# 5. Créer un programme qui calcule la valeur future d’un investissement après n ans\n",
    "capital_initial = float(input(\"Entrez le capital initial investi : \"))#15000\n",
    "taux_interet = float(input(\"Entrez le taux d'intérêt annuel (en pourcentage) : \"))#7\n",
    "nombre_annees = int(input(\"Entrez le nombre d'années de l'investissement : \"))#10\n",
    "valeur_future = capital_initial * (1 + taux_interet / 100) ** nombre_annees\n",
    "print(\"La valeur future de l'investissement après \" + str(nombre_annees) + \" ans est de : \" + str(valeur_future) + \" euros.\")"
   ]
  },
  {
   "cell_type": "code",
   "execution_count": 14,
   "id": "fcd88ed2",
   "metadata": {},
   "outputs": [
    {
     "name": "stdout",
     "output_type": "stream",
     "text": [
      "Le paiement mensuel du prêt est de : 1073.6432460242797 euros.\n"
     ]
    }
   ],
   "source": [
    "# 6. Rédiger un programme qui calcule les paiements mensuels du prêt en fonction du capital, du taux d’intérêt et des années\n",
    "capital_emprunte = float(input(\"Entrez le capital emprunté : \"))#200000\n",
    "taux_annuel = float(input(\"Entrez le taux d'intérêt annuel (en pourcentage) : \"))# 5\n",
    "duree_annees = int(input(\"Entrez la durée du prêt (en années) : \"))#30\n",
    "taux_mensuel = taux_annuel / 100 / 12 # conversion du taux annuel en taux mensuel\n",
    "nombre_paiements = duree_annees * 12 # nombre total de paiements mensuels\n",
    "paiement_mensuel = (capital_emprunte * taux_mensuel) / (1 - (1 + taux_mensuel) ** -nombre_paiements)\n",
    "print(\"Le paiement mensuel du prêt est de : \" + str(paiement_mensuel) + \" euros.\")"
   ]
  }
 ],
 "metadata": {
  "kernelspec": {
   "display_name": "Python 3",
   "language": "python",
   "name": "python3"
  },
  "language_info": {
   "codemirror_mode": {
    "name": "ipython",
    "version": 3
   },
   "file_extension": ".py",
   "mimetype": "text/x-python",
   "name": "python",
   "nbconvert_exporter": "python",
   "pygments_lexer": "ipython3",
   "version": "3.11.4"
  }
 },
 "nbformat": 4,
 "nbformat_minor": 5
}
