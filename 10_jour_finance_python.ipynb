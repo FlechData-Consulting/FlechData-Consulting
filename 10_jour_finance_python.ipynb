{
 "cells": [
  {
   "cell_type": "markdown",
   "id": "b320bca6",
   "metadata": {},
   "source": [
    "# Chapitre 10 : Trading algorithmique\n",
    "Apprenez à développer, mettre en œuvre et backtester des stratégies de trading algorithmique à l’aide de Python.\n",
    "\n",
    "## Objectifs d’apprentissage :\n",
    "- Comprendre les fondamentaux du trading algorithmique\n",
    "- Apprenez à mettre en œuvre des stratégies de trading de base\n",
    "- Maîtriser les techniques de backtesting\n",
    "- Analyser les indicateurs de performance de trading\n",
    "- Gérer les données de marché pour les systèmes de trading"
   ]
  },
  {
   "cell_type": "markdown",
   "id": "cc8cf061",
   "metadata": {},
   "source": [
    "1. Principes fondamentaux du trading algorithmique\n",
    "Commencez par ces ressources essentielles :\n",
    "\n",
    "- Bases du trading algorithmique : https://www.investopedia.com/articles/active-trading/101014/basics-algorithmic-trading-concepts-and-examples.asp\n",
    "- Trading algorithmique avec Python : https://www.youtube.com/watch?v=GDMkkmkJigw"
   ]
  },
  {
   "cell_type": "code",
   "execution_count": 3,
   "id": "8726fe47",
   "metadata": {},
   "outputs": [
    {
     "name": "stderr",
     "output_type": "stream",
     "text": [
      "C:\\Users\\wilfr\\AppData\\Local\\Temp\\ipykernel_26976\\3709920608.py:7: FutureWarning: YF.download() has changed argument auto_adjust default to True\n",
      "  data = yf.download(symbol, start='2020-01-01')\n",
      "[*********************100%***********************]  1 of 1 completed"
     ]
    },
    {
     "name": "stdout",
     "output_type": "stream",
     "text": [
      "Price           Close       High        Low       Open     Volume\n",
      "Ticker           AAPL       AAPL       AAPL       AAPL       AAPL\n",
      "Date                                                             \n",
      "2020-01-02  72.538490  72.598869  71.292281  71.545867  135480400\n",
      "2020-01-03  71.833305  72.594071  71.608700  71.765682  146322800\n",
      "2020-01-06  72.405693  72.444336  70.703027  70.954203  118387200\n",
      "2020-01-07  72.065155  72.671348  71.845377  72.415345  108872000\n",
      "2020-01-08  73.224403  73.526295  71.768079  71.768079  132079200\n"
     ]
    },
    {
     "name": "stderr",
     "output_type": "stream",
     "text": [
      "\n"
     ]
    }
   ],
   "source": [
    "import pandas as pd\n",
    "import numpy as np\n",
    "import yfinance as yf\n",
    "\n",
    "# Download stock data\n",
    "symbol = 'AAPL'\n",
    "data = yf.download(symbol, start='2020-01-01')\n",
    "data = data.dropna()\n",
    "print(data.head())\n",
    "\n",
    "# Calculate moving averages\n",
    "data['SMA20'] = data['Close'].rolling(window=20).mean()\n",
    "data['SMA50'] = data['Close'].rolling(window=50).mean()\n",
    "\n",
    "# Generate signals\n",
    "data['Signal'] = np.where(data['SMA20'] > data['SMA50'], 1, -1)"
   ]
  },
  {
   "cell_type": "markdown",
   "id": "296895ae",
   "metadata": {},
   "source": [
    "2. Mise en œuvre de la stratégie"
   ]
  },
  {
   "cell_type": "code",
   "execution_count": 7,
   "id": "8ec47b0f",
   "metadata": {},
   "outputs": [
    {
     "name": "stdout",
     "output_type": "stream",
     "text": [
      "Price            Close       SMA20       SMA50 Signal Returns Strategy\n",
      "Ticker            AAPL                                                \n",
      "Date                                                                  \n",
      "2025-09-22  256.079987  235.787000  224.731473      1     NaN      NaN\n",
      "2025-09-23  254.429993  237.150500  225.652403      1     NaN      NaN\n",
      "2025-09-24  252.309998  238.300500  226.521144      1     NaN      NaN\n",
      "2025-09-25  256.869995  239.619499  227.460109      1     NaN      NaN\n",
      "2025-09-26  255.460007  240.764500  228.373670      1     NaN      NaN\n",
      "Price      Cumulative_Market Cumulative_Strategy\n",
      "Ticker                                          \n",
      "Date                                            \n",
      "2025-09-22               NaN                 NaN\n",
      "2025-09-23               NaN                 NaN\n",
      "2025-09-24               NaN                 NaN\n",
      "2025-09-25               NaN                 NaN\n",
      "2025-09-26               NaN                 NaN\n",
      "Sharpe Ratio: nan, Max Drawdown: nan\n"
     ]
    }
   ],
   "source": [
    "# Calculate strategy returns\n",
    "data['Returns'] = data['Close'].pct_change()\n",
    "data['Strategy'] = data['Signal'].shift(1) * data['Returns']\n",
    "print(data[['Close', 'SMA20', 'SMA50', 'Signal', 'Returns', 'Strategy']].tail())\n",
    "\n",
    "# Calculate cumulative returns\n",
    "data['Cumulative_Market'] = (1 + data['Returns']).cumprod()\n",
    "data['Cumulative_Strategy'] = (1 + data['Strategy']).cumprod()\n",
    "print(data[['Cumulative_Market', 'Cumulative_Strategy']].tail())\n",
    "\n",
    "# Calculate performance metrics\n",
    "sharpe_ratio = np.sqrt(252) * data['Strategy'].mean() / data['Strategy'].std()\n",
    "max_drawdown = (data['Cumulative_Strategy'].cummax() - data['Cumulative_Strategy']).max()\n",
    "print(f'Sharpe Ratio: {sharpe_ratio}, Max Drawdown: {max_drawdown}')"
   ]
  }
 ],
 "metadata": {
  "kernelspec": {
   "display_name": "Python 3",
   "language": "python",
   "name": "python3"
  },
  "language_info": {
   "codemirror_mode": {
    "name": "ipython",
    "version": 3
   },
   "file_extension": ".py",
   "mimetype": "text/x-python",
   "name": "python",
   "nbconvert_exporter": "python",
   "pygments_lexer": "ipython3",
   "version": "3.11.4"
  }
 },
 "nbformat": 4,
 "nbformat_minor": 5
}
