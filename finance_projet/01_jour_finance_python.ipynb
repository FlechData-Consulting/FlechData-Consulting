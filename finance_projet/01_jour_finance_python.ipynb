{
 "cells": [
  {
   "cell_type": "markdown",
   "id": "90ce62f5",
   "metadata": {},
   "source": [
    "# Chapitre 1 : Introduction à Python et configuration de l’environnement\n",
    "Aujourd'hui, vous allez configurer votre environnement de développement Python et écrire votre premier programme. En tant qu’étudiants en finance, vous apprendrez pourquoi Python est particulièrement précieux pour l’analyse financière.\n",
    "\n",
    "## Objectifs d’apprentissage :\n",
    "- Comprendre ce qu’est Python et ses applications dans l’analyse de données financières\n",
    "- Mettre en place l’environnement de développement Python à l’aide de Python et VS Code\n",
    "- Créez un référentiel GitHub pour héberger vos supports de cours"
   ]
  },
  {
   "cell_type": "markdown",
   "id": "aacaf0a8",
   "metadata": {},
   "source": [
    "## 1. Introduction à Python\n",
    "- Qu’est-ce que Python ?\n",
    "- Pourquoi utiliser Python pour l’analyse de données financières ?"
   ]
  },
  {
   "cell_type": "markdown",
   "id": "876f4fb0",
   "metadata": {},
   "source": [
    "## 2. Installation de Python et configuration de l’environnement de développement\n",
    "- Téléchargement et installation de Python\n",
    "- Introduction à Python et à ses fonctionnalités\n",
    "- Configuration de VS Code en tant qu’éditeur de code"
   ]
  },
  {
   "cell_type": "markdown",
   "id": "03cea2b2",
   "metadata": {},
   "source": [
    "## 3. Configuration du référentiel GitHub\n",
    "- Qu’est-ce qu’un référentiel GitHub ?\n",
    "- Création d’un compte et d’un dépôt GitHub"
   ]
  },
  {
   "cell_type": "markdown",
   "id": "b8825b44",
   "metadata": {},
   "source": [
    "## Exercices:\n",
    "- Installez Python et VS Code sur votre système\n",
    "- Créez un dépôt GitHub et familiarisez-vous avec ses fonctionnalités\n",
    "- Écrivez un programme Python simple qui affiche « Hello, World ! » et exécutez-le à l’aide de Python\n",
    "- Écrivez un programme Python simple qui multiplie 2 nombres et imprimez le résultat\n",
    "- Écrivez un programme Python simple qui trouve la valeur actuelle d’un flux de trésorerie futur (FCF) unique"
   ]
  },
  {
   "cell_type": "markdown",
   "id": "e8c02c72",
   "metadata": {},
   "source": [
    "## Solution"
   ]
  },
  {
   "cell_type": "markdown",
   "id": "1e1aee45",
   "metadata": {},
   "source": [
    "## Creation d'un dépòt Github................................................"
   ]
  },
  {
   "cell_type": "code",
   "execution_count": 1,
   "id": "84b5b071",
   "metadata": {},
   "outputs": [
    {
     "name": "stdout",
     "output_type": "stream",
     "text": [
      "Hello, World !\n"
     ]
    }
   ],
   "source": [
    "# afficher <<Hello, World !>>\n",
    "print('Hello, World !')"
   ]
  },
  {
   "cell_type": "code",
   "execution_count": 2,
   "id": "d7985303",
   "metadata": {},
   "outputs": [
    {
     "name": "stdout",
     "output_type": "stream",
     "text": [
      "12\n"
     ]
    }
   ],
   "source": [
    "# Multiplication de 2 nombres\n",
    "print(3 * 4)"
   ]
  },
  {
   "cell_type": "code",
   "execution_count": 5,
   "id": "7ba4a9d0",
   "metadata": {},
   "outputs": [
    {
     "name": "stdout",
     "output_type": "stream",
     "text": [
      "La valeur actuelle (PV):  863.84 $\n"
     ]
    }
   ],
   "source": [
    "# trouver la valeur actuelle d'un flux de trésorerie future (FCF) unique\n",
    "# FCF = 1000$\n",
    "# taux d'actualisation = 5%\n",
    "# période = 3 ans\n",
    "FCF = 1000\n",
    "taux_actualisation = 0.05\n",
    "periode = 3\n",
    "valeur_actuelle = FCF / (1 + taux_actualisation) ** periode\n",
    "print('La valeur actuelle (PV): ', round(valeur_actuelle,2),'$')"
   ]
  },
  {
   "cell_type": "code",
   "execution_count": 15,
   "id": "72152164",
   "metadata": {},
   "outputs": [
    {
     "name": "stdout",
     "output_type": "stream",
     "text": [
      "La valeur actuelle totale (PV):  3879.98 $\n"
     ]
    }
   ],
   "source": [
    "# trouver la valeur actuelle total d'une série de flux de trésorerie futurs (FCF)\n",
    "# FCF = [1000$, 1500$, 2000$]\n",
    "# taux d'actualisation = 5%\n",
    "# période = [1 an, 2 ans, 5 ans]\n",
    "FCF = [1000, 1500, 2000]\n",
    "taux_actualisation = 0.05\n",
    "periode = [1, 2, 5]\n",
    "valeur_actuelle_totale = sum([FCF[i] / (1 + taux_actualisation) ** periode[i] for i in range(len(FCF))])\n",
    "# details de la compréhension de liste car la derniere periode est 5 ans et pas 3 ans, donc corrige la formule\n",
    "# valeur_actuelle_totale = (FCF[0] / (1 + taux_actualisation) ** periode[0]) + (FCF[1] / (1 + taux_actualisation) ** periode[1]) + (FCF[2] / (1 + taux_actualisation) ** periode[2])\n",
    "# valeur_actuelle_totale = (1000 / (1 + 0.05) ** 1) + (1500 / (1 + 0.05) ** 2) + (2000 / (1 + 0.05) ** 5)\n",
    "print('La valeur actuelle totale (PV): ', round(valeur_actuelle_totale,2),'$')"
   ]
  }
 ],
 "metadata": {
  "kernelspec": {
   "display_name": "Python 3",
   "language": "python",
   "name": "python3"
  },
  "language_info": {
   "codemirror_mode": {
    "name": "ipython",
    "version": 3
   },
   "file_extension": ".py",
   "mimetype": "text/x-python",
   "name": "python",
   "nbconvert_exporter": "python",
   "pygments_lexer": "ipython3",
   "version": "3.11.4"
  }
 },
 "nbformat": 4,
 "nbformat_minor": 5
}
