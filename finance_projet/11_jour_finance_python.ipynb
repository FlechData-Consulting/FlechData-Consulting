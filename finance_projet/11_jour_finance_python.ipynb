{
 "cells": [
  {
   "cell_type": "markdown",
   "id": "2a01bdcc",
   "metadata": {},
   "source": [
    "# Chapitre 11 : Optimisation du portefeuille\n",
    "Apprenez à mettre en œuvre la théorie moderne du portefeuille (MPT) et à optimiser les portefeuilles d’investissement à l’aide de Python.\n",
    "\n",
    "### Objectifs d’apprentissage :\n",
    "- Comprendre la théorie moderne du portefeuille et ses composants\n",
    "- Apprenez à calculer le risque et le rendement d’un portefeuille\n",
    "- Mettre en place des algorithmes d’optimisation de portefeuille\n",
    "- Créez des visualisations de frontière efficaces\n",
    "- Appliquer des techniques d’optimisation à des données réelles du marché"
   ]
  },
  {
   "cell_type": "markdown",
   "id": "ab6d65ba",
   "metadata": {},
   "source": [
    "1. Fondements de l’optimisation de portefeuille"
   ]
  },
  {
   "cell_type": "code",
   "execution_count": 3,
   "id": "5abb360b",
   "metadata": {},
   "outputs": [
    {
     "name": "stderr",
     "output_type": "stream",
     "text": [
      "C:\\Users\\wilfr\\AppData\\Local\\Temp\\ipykernel_48176\\3688395612.py:9: FutureWarning: YF.download() has changed argument auto_adjust default to True\n",
      "  data[ticker] = yf.download(ticker)['Close']\n",
      "[*********************100%***********************]  1 of 1 completed\n",
      "C:\\Users\\wilfr\\AppData\\Local\\Temp\\ipykernel_48176\\3688395612.py:9: FutureWarning: YF.download() has changed argument auto_adjust default to True\n",
      "  data[ticker] = yf.download(ticker)['Close']\n",
      "[*********************100%***********************]  1 of 1 completed\n",
      "C:\\Users\\wilfr\\AppData\\Local\\Temp\\ipykernel_48176\\3688395612.py:9: FutureWarning: YF.download() has changed argument auto_adjust default to True\n",
      "  data[ticker] = yf.download(ticker)['Close']\n",
      "[*********************100%***********************]  1 of 1 completed\n",
      "C:\\Users\\wilfr\\AppData\\Local\\Temp\\ipykernel_48176\\3688395612.py:9: FutureWarning: YF.download() has changed argument auto_adjust default to True\n",
      "  data[ticker] = yf.download(ticker)['Close']\n",
      "[*********************100%***********************]  1 of 1 completed"
     ]
    },
    {
     "name": "stdout",
     "output_type": "stream",
     "text": [
      "                AAPL      MSFT     GOOGL      AMZN\n",
      "Date                                              \n",
      "2025-08-27       NaN       NaN       NaN       NaN\n",
      "2025-08-28  0.008981  0.005723  0.020050  0.010824\n",
      "2025-08-29 -0.001806 -0.005788  0.006001 -0.011226\n",
      "2025-09-02 -0.010425 -0.003099 -0.007327 -0.015983\n",
      "2025-09-03  0.038090  0.000455  0.091365  0.002885\n",
      "cov_matrix:            AAPL      MSFT     GOOGL      AMZN\n",
      "AAPL   0.082084  0.006442  0.039551  0.012605\n",
      "MSFT   0.006442  0.025386  0.007501  0.014760\n",
      "GOOGL  0.039551  0.007501  0.136450  0.028805\n",
      "AMZN   0.012605  0.014760  0.028805  0.072705\n"
     ]
    },
    {
     "name": "stderr",
     "output_type": "stream",
     "text": [
      "\n"
     ]
    }
   ],
   "source": [
    "import numpy as np\n",
    "import pandas as pd\n",
    "import yfinance as yf\n",
    "\n",
    "# Download stock data\n",
    "tickers = ['AAPL', 'MSFT', 'GOOGL', 'AMZN']\n",
    "data = pd.DataFrame()\n",
    "for ticker in tickers:\n",
    "    data[ticker] = yf.download(ticker)['Close']\n",
    "data = data.dropna()\n",
    "data.head()\n",
    "\n",
    "# Calculate returns and covariance\n",
    "returns = data.pct_change()\n",
    "print(returns.head())\n",
    "cov_matrix = returns.cov() * 252  # Annualized covariance\n",
    "print(\"cov_matrix:\",cov_matrix)"
   ]
  },
  {
   "cell_type": "markdown",
   "id": "c69a0f10",
   "metadata": {},
   "source": [
    "2. Mise en œuvre pratique"
   ]
  },
  {
   "cell_type": "code",
   "execution_count": 5,
   "id": "7b06fcef",
   "metadata": {},
   "outputs": [
    {
     "name": "stdout",
     "output_type": "stream",
     "text": [
      "Optimal Weights: [4.11670986e-01 0.00000000e+00 5.88329015e-01 1.20096822e-15]\n",
      "Expected Portfolio Return and Risk: (1.79109568477446, 0.2833710881624359)\n"
     ]
    }
   ],
   "source": [
    "from scipy.optimize import minimize\n",
    "\n",
    "def portfolio_stats(weights, returns, cov):\n",
    "    portfolio_return = np.sum(returns.mean() * weights) * 252\n",
    "    portfolio_std = np.sqrt(np.dot(weights.T, np.dot(cov, weights)))\n",
    "    return portfolio_return, portfolio_std\n",
    "\n",
    "# Minimize negative Sharpe Ratio\n",
    "def neg_sharpe_ratio(weights):\n",
    "    p_ret, p_std = portfolio_stats(weights, returns, cov_matrix)\n",
    "    return -(p_ret - risk_free_rate) / p_std  # Negative SR for minimization\n",
    "\n",
    "risk_free_rate = 0.01\n",
    "num_assets = len(tickers)\n",
    "initial_weights = np.ones(num_assets) / num_assets\n",
    "bounds = tuple((0, 1) for _ in range(num_assets))\n",
    "constraints = {'type': 'eq', 'fun': lambda x: np.sum(x) - 1}\n",
    "opt_results = minimize(neg_sharpe_ratio, initial_weights, method='SLSQP', bounds=bounds, constraints=constraints)\n",
    "optimal_weights = opt_results.x\n",
    "print(\"Optimal Weights:\", optimal_weights)\n",
    "print(\"Expected Portfolio Return and Risk:\", portfolio_stats(optimal_weights, returns, cov_matrix))\n"
   ]
  }
 ],
 "metadata": {
  "kernelspec": {
   "display_name": "Python 3",
   "language": "python",
   "name": "python3"
  },
  "language_info": {
   "codemirror_mode": {
    "name": "ipython",
    "version": 3
   },
   "file_extension": ".py",
   "mimetype": "text/x-python",
   "name": "python",
   "nbconvert_exporter": "python",
   "pygments_lexer": "ipython3",
   "version": "3.11.4"
  }
 },
 "nbformat": 4,
 "nbformat_minor": 5
}
